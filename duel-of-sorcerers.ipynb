{
 "cells": [
  {
   "cell_type": "markdown",
   "metadata": {},
   "source": [
    "<img src=\"https://bit.ly/2VnXWr2\" width=\"100\" align=\"left\">"
   ]
  },
  {
   "cell_type": "markdown",
   "metadata": {},
   "source": [
    "# Duel of Sorcerers\n",
    "You are witnessing an epic battle between two powerful sorcerers: Gandalf and Saruman. Each sorcerer has 10 spells of variable power in their mind and they are going to throw them one after the other. The winner of the duel will be the one who wins more of those clashes between spells. Spells are represented as a list of 10 integers whose value equals the power of the spell.\n",
    "```\n",
    "gandalf = [10, 11, 13, 30, 22, 11, 10, 33, 22, 22]\n",
    "saruman = [23, 66, 12, 43, 12, 10, 44, 23, 12, 17]\n",
    "```\n",
    "For example:\n",
    "- The first clash is won by Saruman: 10 against 23.\n",
    "- The second clash is won by Saruman: 11 against 66.\n",
    "- ...\n",
    "\n",
    "You will create two variables, one for each sorcerer, where the sum of clashes won will be stored. Depending on which variable is greater at the end of the duel, you will show one of the following three results on the screen:\n",
    "* Gandalf wins\n",
    "* Saruman wins\n",
    "* Tie\n",
    "\n",
    "<img src=\"images/content_lightning_bolt_big.jpg\" width=\"400\">"
   ]
  },
  {
   "cell_type": "markdown",
   "metadata": {},
   "source": [
    "## Tools\n",
    "You don't necessarily need to use all the tools. Maybe you opt to use some of them or completely different ones, they are given to help you shape the exercise. Programming exercises can be solved in many different ways.\n",
    "\n",
    "1. Data structures: **lists, dictionaries**\n",
    "2. Loop: **for loop**\n",
    "3. Conditional statements: **if-elif-else**\n",
    "4. Functions: **range(), len(), print()**\n",
    "\n",
    "## Tasks\n",
    "\n",
    "#### 1. Create two variables called `gandalf` and `saruman` and assign them the spell power lists. Create a variable called `spells` to store the number of spells that the sorcerers cast. "
   ]
  },
  {
   "cell_type": "code",
   "execution_count": 176,
   "metadata": {},
   "outputs": [],
   "source": [
    "g = [10,11,13,30,21,11,10,33,22,22]\n",
    "s = [23,66,12,43,12,10,44,23,12,17]\n",
    "spells = \"number of spells\""
   ]
  },
  {
   "cell_type": "markdown",
   "metadata": {},
   "source": [
    "#### 2. Create two variables called `gandalf_wins` and `saruman_wins`. Set both of them to 0. \n",
    "You will use these variables to count the number of clashes each sorcerer wins. "
   ]
  },
  {
   "cell_type": "code",
   "execution_count": 177,
   "metadata": {},
   "outputs": [],
   "source": [
    "gandal_wins = 0\n",
    "saruman_wins = 0"
   ]
  },
  {
   "cell_type": "markdown",
   "metadata": {},
   "source": [
    " "
   ]
  },
  {
   "cell_type": "code",
   "execution_count": 178,
   "metadata": {
    "scrolled": true
   },
   "outputs": [
    {
     "name": "stdout",
     "output_type": "stream",
     "text": [
      "-13\n",
      "-55\n",
      "1\n",
      "-13\n",
      "9\n",
      "1\n",
      "-34\n",
      "10\n",
      "10\n",
      "5\n",
      "[-13, -55, 1, -13, 9, 1, -34, 10, 10, 5]\n",
      "gandal_wins =   6\n",
      "saruman_wins =   4\n"
     ]
    }
   ],
   "source": [
    "combate=[]\n",
    "for spells in range (0,10):\n",
    "    resultado = (g[spells]-s[spells])\n",
    "    print(resultado)\n",
    "    combate.append(resultado)\n",
    "    \n",
    "print(combate)    \n",
    "       \n",
    "results = \"resultado das lutas\"   \n",
    "for results in combate:\n",
    "    if results <0 :\n",
    "        saruman_wins = saruman_wins + 1\n",
    "    elif results >0 :\n",
    "        gandal_wins = gandal_wins + 1\n",
    "    elif results == 0 :\n",
    "        gandal_wins = gandal_wins\n",
    "        saruman_wins = saruman_wins\n",
    "        \n",
    "len(combate)        \n",
    "             \n",
    "print(\"gandal_wins =  \", gandal_wins)  \n",
    "print(\"saruman_wins =  \", saruman_wins)\n",
    "\n",
    "\n",
    "        \n",
    "    \n",
    "    \n",
    "    "
   ]
  },
  {
   "cell_type": "markdown",
   "metadata": {},
   "source": [
    "#### 4. Who won the battle?\n",
    "Print `Gandalf wins`, `Saruman wins` or `Tie` depending on the result. "
   ]
  },
  {
   "cell_type": "code",
   "execution_count": 179,
   "metadata": {},
   "outputs": [
    {
     "name": "stdout",
     "output_type": "stream",
     "text": [
      "gandalf wins\n"
     ]
    }
   ],
   "source": [
    "if gandal_wins > saruman_wins:\n",
    "    print (\"gandalf wins\")\n",
    "elif gandal_wins < saruman_wins:\n",
    "    print (\"saruman wins\")\n",
    "elif gandal_wins==saruman__wins :\n",
    "    print (\"tie\")\n"
   ]
  },
  {
   "cell_type": "markdown",
   "metadata": {},
   "source": [
    "## Bonus\n",
    "\n",
    "In this bonus challenge, you'll need to check the winner of the battle but this time, a sorcerer wins if he succeeds in winning 3 spell clashes in a row.\n",
    "\n",
    "Also, the spells now have a name and there is a dictionary that associates that name to a power.\n",
    "\n",
    "```\n",
    "POWER = {\n",
    "    'Fireball': 50, \n",
    "    'Lightning bolt': 40, \n",
    "    'Magic arrow': 10, \n",
    "    'Black Tentacles': 25, \n",
    "    'Contagion': 45\n",
    "}\n",
    "\n",
    "gandalf = ['Fireball', 'Lightning bolt', 'Lightning bolt', 'Magic arrow', 'Fireball', \n",
    "           'Magic arrow', 'Lightning bolt', 'Fireball', 'Fireball', 'Fireball']\n",
    "saruman = ['Contagion', 'Contagion', 'Black Tentacles', 'Fireball', 'Black Tentacles', \n",
    "           'Lightning bolt', 'Magic arrow', 'Contagion', 'Magic arrow', 'Magic arrow']\n",
    "```\n",
    "\n",
    "#### 1. Create variables `POWER`, `gandalf` and `saruman` as seen above. Create a variable called `spells` to store the number of spells that the sorcerers cast. "
   ]
  },
  {
   "cell_type": "code",
   "execution_count": 180,
   "metadata": {},
   "outputs": [],
   "source": [
    "POWER = {'Fireball': 50, 'Lightning bolt': 40, 'Magic arrow': 10, 'Black Tentacles': 25, 'Contagion': 45}\n",
    "\n",
    "gandalf = ['Fireball', 'Lightning bolt', 'Lightning bolt', 'Magic arrow', 'Fireball', \n",
    "           'Magic arrow', 'Lightning bolt', 'Fireball', 'Fireball', 'Fireball']\n",
    "saruman = ['Contagion', 'Contagion', 'Black Tentacles', 'Fireball', 'Black Tentacles', \n",
    "           'Lightning bolt', 'Magic arrow', 'Contagion', 'Magic arrow', 'Magic arrow']"
   ]
  },
  {
   "cell_type": "markdown",
   "metadata": {},
   "source": [
    "#### 2. Create two variables called `gandalf_wins` and `saruman_wins`. Set both of them to 0. "
   ]
  },
  {
   "cell_type": "code",
   "execution_count": 181,
   "metadata": {},
   "outputs": [],
   "source": [
    "gandalf_wins=0\n",
    "saruman_wins=0"
   ]
  },
  {
   "cell_type": "markdown",
   "metadata": {},
   "source": [
    "#### 3. Create two variables called `gandalf_power` and `saruman_power` to store the list of spell powers of each sorcerer."
   ]
  },
  {
   "cell_type": "code",
   "execution_count": 182,
   "metadata": {},
   "outputs": [
    {
     "name": "stdout",
     "output_type": "stream",
     "text": [
      "gandal_power=   [50, 40, 40, 10, 50, 10, 40, 50, 50, 50]\n",
      "saruman_power=  [45, 45, 25, 50, 25, 40, 10, 45, 10, 10]\n"
     ]
    }
   ],
   "source": [
    "gandal_power = []\n",
    "saruman_power = []\n",
    "power= \"tipo de força\"\n",
    "valor= \"poder da força\"\n",
    "for power in gandalf:\n",
    "    if power == 'Fireball':\n",
    "        valor = 50\n",
    "    elif power == 'Lightning bolt':\n",
    "        valor = 40\n",
    "    elif power == 'Magic arrow':\n",
    "        valor = 10\n",
    "    elif power == 'Black Tentacles':\n",
    "        valor = 25\n",
    "    elif power == 'Contagion':\n",
    "        valor = 45\n",
    "    gandal_power.append(valor)    \n",
    "        \n",
    "print(\"gandal_power=  \", gandal_power) \n",
    "\n",
    "for power in saruman:\n",
    "    if power == 'Fireball':\n",
    "        valor = 50\n",
    "    elif power == 'Lightning bolt':\n",
    "        valor = 40\n",
    "    elif power == 'Magic arrow':\n",
    "        valor = 10\n",
    "    elif power == 'Black Tentacles':\n",
    "        valor = 25\n",
    "    elif power == 'Contagion':\n",
    "        valor = 45\n",
    "    saruman_power.append(valor) \n",
    "    \n",
    "print(\"saruman_power= \", saruman_power)\n",
    "           "
   ]
  },
  {
   "cell_type": "markdown",
   "metadata": {},
   "source": [
    "#### 4. The battle starts! Using the variables you've created above, code the execution of spell clashes. Remember that a sorcerer wins if he succeeds in winning 3 spell clashes in a row. \n",
    "If a clash ends up in a tie, the counter of wins in a row is not restarted to 0. Remember to print who is the winner of the battle. "
   ]
  },
  {
   "cell_type": "code",
   "execution_count": 183,
   "metadata": {},
   "outputs": [
    {
     "name": "stdout",
     "output_type": "stream",
     "text": [
      "[-13, -55, 1, -13, 9, 1, -34, 10, 10, 5]\n",
      "gandalf wins\n"
     ]
    }
   ],
   "source": [
    "combate=[]\n",
    "for spells in range (0,10):\n",
    "    resultado = (g[spells]-s[spells])\n",
    "    combate.append(resultado)\n",
    "    \n",
    "print(combate)  \n",
    "\n",
    "for i in range (0,8):\n",
    "    if (combate[i]<0) & (combate[i+1]<0) & (combate[i+2]<0):\n",
    "        print('saruman wins')\n",
    "    elif (combate[i]>0) & (combate[i+1]>0) & (combate[i+2]>0):\n",
    "        print('gandalf wins')\n"
   ]
  },
  {
   "cell_type": "markdown",
   "metadata": {},
   "source": [
    "#### 5. Find the average spell power of Gandalf and Saruman. "
   ]
  },
  {
   "cell_type": "code",
   "execution_count": 184,
   "metadata": {},
   "outputs": [
    {
     "name": "stdout",
     "output_type": "stream",
     "text": [
      "39.0\n",
      "30.5\n"
     ]
    }
   ],
   "source": [
    "avg_gandalf = sum(gandal_power)/len(gandal_power)\n",
    "print(avg_gandalf)\n",
    "avg_saruman = sum(saruman_power)/len(saruman_power)\n",
    "print(avg_saruman)"
   ]
  },
  {
   "cell_type": "markdown",
   "metadata": {},
   "source": [
    "#### 6. Find the standard deviation of the spell power of Gandalf and Saruman. "
   ]
  },
  {
   "cell_type": "code",
   "execution_count": 185,
   "metadata": {},
   "outputs": [
    {
     "name": "stdout",
     "output_type": "stream",
     "text": [
      "standard deviation Gandalf=   15.132745950421556\n",
      "standard deviation Saruman=   15.56438241627338\n"
     ]
    }
   ],
   "source": [
    "soma = 0\n",
    "for power in gandal_power:\n",
    "    soma = soma+(power - avg_gandalf)**2\n",
    "     \n",
    "stand_dev_gandalf = (soma/len(gandal_power))**0.5\n",
    "print(\"standard deviation Gandalf=  \", stand_dev_gandalf) \n",
    "\n",
    "soma = 0\n",
    "for power in saruman_power:\n",
    "    soma = soma+(power - avg_saruman)**2\n",
    "     \n",
    "stand_dev_saruman = (soma/len(saruman_power))**0.5\n",
    "print(\"standard deviation Saruman=  \", stand_dev_saruman)\n"
   ]
  }
 ],
 "metadata": {
  "kernelspec": {
   "display_name": "Python 3",
   "language": "python",
   "name": "python3"
  },
  "language_info": {
   "codemirror_mode": {
    "name": "ipython",
    "version": 3
   },
   "file_extension": ".py",
   "mimetype": "text/x-python",
   "name": "python",
   "nbconvert_exporter": "python",
   "pygments_lexer": "ipython3",
   "version": "3.8.5"
  }
 },
 "nbformat": 4,
 "nbformat_minor": 2
}
